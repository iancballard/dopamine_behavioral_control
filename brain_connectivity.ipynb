{
 "cells": [
  {
   "cell_type": "code",
   "execution_count": 3,
   "id": "8b9ed7b6",
   "metadata": {},
   "outputs": [],
   "source": [
    "import pandas as pd\n",
    "import numpy as np\n",
    "import matplotlib.pyplot as plt\n",
    "import seaborn as sns\n",
    "import statsmodels.api as sm\n",
    "import statsmodels.formula.api as smf\n",
    "import scipy\n",
    "import patsy\n",
    "import os.path as op\n",
    "import glob\n",
    "import moss\n",
    "%matplotlib inline"
   ]
  },
  {
   "cell_type": "code",
   "execution_count": 6,
   "id": "8f35e3be",
   "metadata": {},
   "outputs": [
    {
     "data": {
      "text/plain": [
       "77"
      ]
     },
     "execution_count": 6,
     "metadata": {},
     "output_type": "execute_result"
    }
   ],
   "source": [
    "#read data\n",
    "new_df = pd.read_csv('./new_df.csv')\n",
    "betas_df = pd.read_csv('./betas_df.csv')\n",
    "pet_df = pd.read_csv(op.abspath('./pet_pca.csv'))\n",
    "connectivity_df = pd.read_csv('./brain_connectivity_group.csv') ##IFS frontal o\n",
    "subs = list(set(new_df['sub']))\n",
    "len(subs)"
   ]
  },
  {
   "cell_type": "code",
   "execution_count": 7,
   "id": "27647763",
   "metadata": {},
   "outputs": [
    {
     "data": {
      "text/plain": [
       "'0.13.2'"
      ]
     },
     "execution_count": 7,
     "metadata": {},
     "output_type": "execute_result"
    }
   ],
   "source": [
    "#plotting settings\n",
    "fontsize = 18\n",
    "ticksize = fontsize*.8\n",
    "figy = 4\n",
    "sns.set_context('talk')\n",
    "sns.__version__"
   ]
  },
  {
   "cell_type": "code",
   "execution_count": 8,
   "id": "9d6c1354",
   "metadata": {},
   "outputs": [
    {
     "name": "stdout",
     "output_type": "stream",
     "text": [
      "{'plac': 'Placebo', 'brom': '$\\\\bf{Bromocriptine}$\\n$\\\\it{(D2\\\\ agonist)}$', 'tolc': 'Tolcapone'}\n"
     ]
    }
   ],
   "source": [
    "drug_map = {'plac':'Placebo',\n",
    "#            'brom':'Bromocriptine\\n(D2 agonist)',\n",
    "            'brom':'$\\\\bf{Bromocriptine}$\\n$\\it{(D2\\ agonist)}$',\n",
    "           'tolc':'Tolcapone'}\n",
    "print(drug_map)\n",
    "connectivity_df['Drug'] = [drug_map[x] for x in connectivity_df['drug']]\n",
    "\n",
    "connectivity_df['sub'] = [int(x[2:]) for x in connectivity_df['sub']]\n"
   ]
  },
  {
   "cell_type": "code",
   "execution_count": 9,
   "id": "3124dbe1",
   "metadata": {},
   "outputs": [],
   "source": [
    "vst_map = {'high':'High D2/3 Density',\n",
    "          'low':'Low D2/3 Density'}\n",
    "connectivity_df['VST_rac_split'] = [vst_map[x] for x in connectivity_df['VST_rac_split']]\n"
   ]
  },
  {
   "cell_type": "code",
   "execution_count": 11,
   "id": "582bab3b",
   "metadata": {},
   "outputs": [
    {
     "name": "stderr",
     "output_type": "stream",
     "text": [
      "/var/folders/bn/dzh1ysw54m9cq4n3dnb30ldw0000gn/T/ipykernel_45996/620552385.py:2: SettingWithCopyWarning: \n",
      "A value is trying to be set on a copy of a slice from a DataFrame.\n",
      "Try using .loc[row_indexer,col_indexer] = value instead\n",
      "\n",
      "See the caveats in the documentation: https://pandas.pydata.org/pandas-docs/stable/user_guide/indexing.html#returning-a-view-versus-a-copy\n",
      "  fig_df[' ']= fig_df['VST_rac_split']\n"
     ]
    },
    {
     "data": {
      "image/png": "[encoded data removed]",
      "text/plain": [
       "<Figure size 432x288 with 1 Axes>"
      ]
     },
     "metadata": {
      "needs_background": "light"
     },
     "output_type": "display_data"
    }
   ],
   "source": [
    "fig_df = connectivity_df[connectivity_df['drug']!='tolc']\n",
    "fig_df[' ']= fig_df['VST_rac_split']\n",
    "\n",
    "g = sns.catplot(x = 'Drug',\n",
    "          y = 'nacc_connectivity_within',\n",
    "            hue = ' ',\n",
    "            kind = 'point',\n",
    "            palette = [sns.color_palette()[9],sns.color_palette()[3]],\n",
    "            hue_order = ['Low D2/3 Density','High D2/3 Density'],\n",
    "            errorbar=('ci', 68),\n",
    "#             linestyle='none',\n",
    "                legend = False,\n",
    "            dodge = .05,\n",
    "          data = fig_df)    \n",
    "\n",
    "g.figure.set_size_inches(1.5*figy,figy)\n",
    "\n",
    "plt.xlabel(\"\", \n",
    "           fontsize = 0)\n",
    "plt.ylabel(\"$\\\\bf{Frontostriatal}$\\n$\\\\bf{connectivity}$ $\\it{(AU)}$\", \n",
    "           fontsize = fontsize)\n",
    "g.ax.tick_params(axis = 'y',\n",
    "             labelsize=ticksize)\n",
    "g.ax.tick_params(axis = 'x',\n",
    "             labelsize=fontsize)\n",
    "\n",
    "labels = g.ax.get_xticklabels()\n",
    "for l in labels:\n",
    "    l.set_fontweight('bold')\n",
    "    l.set_fontsize(fontsize)\n",
    "    \n",
    "g.despine()\n",
    "plt.savefig('../figs/paper/fMRI_effects.png',\n",
    "           dpi = 600,\n",
    "           bbox_inches = 'tight')"
   ]
  },
  {
   "cell_type": "code",
   "execution_count": 12,
   "id": "6c853b0b",
   "metadata": {},
   "outputs": [
    {
     "data": {
      "text/html": [
       "<table class=\"simpletable\">\n",
       "<tr>\n",
       "       <td>Model:</td>       <td>MixedLM</td> <td>Dependent Variable:</td> <td>nacc_connectivity</td>\n",
       "</tr>\n",
       "<tr>\n",
       "  <td>No. Observations:</td>   <td>396</td>         <td>Method:</td>             <td>REML</td>       \n",
       "</tr>\n",
       "<tr>\n",
       "     <td>No. Groups:</td>      <td>44</td>          <td>Scale:</td>             <td>0.0141</td>      \n",
       "</tr>\n",
       "<tr>\n",
       "  <td>Min. group size:</td>     <td>9</td>      <td>Log-Likelihood:</td>       <td>210.5790</td>     \n",
       "</tr>\n",
       "<tr>\n",
       "  <td>Max. group size:</td>     <td>9</td>        <td>Converged:</td>             <td>Yes</td>       \n",
       "</tr>\n",
       "<tr>\n",
       "  <td>Mean group size:</td>    <td>9.0</td>            <td></td>                   <td></td>         \n",
       "</tr>\n",
       "</table>\n",
       "<table class=\"simpletable\">\n",
       "<tr>\n",
       "                            <td></td>                            <th>Coef.</th> <th>Std.Err.</th>    <th>z</th>   <th>P>|z|</th> <th>[0.025</th> <th>0.975]</th>\n",
       "</tr>\n",
       "<tr>\n",
       "  <th>Intercept</th>                                             <td>0.028</td>   <td>0.023</td>   <td>1.232</td> <td>0.218</td> <td>-0.016</td>  <td>0.072</td>\n",
       "</tr>\n",
       "<tr>\n",
       "  <th>C(drug, Treatment(reference='plac'))[T.brom]</th>          <td>0.040</td>   <td>0.015</td>   <td>2.718</td> <td>0.007</td>  <td>0.011</td>  <td>0.068</td>\n",
       "</tr>\n",
       "<tr>\n",
       "  <th>C(drug, Treatment(reference='plac'))[T.tolc]</th>          <td>0.043</td>   <td>0.015</td>   <td>2.932</td> <td>0.003</td>  <td>0.014</td>  <td>0.071</td>\n",
       "</tr>\n",
       "<tr>\n",
       "  <th>VST_rac</th>                                               <td>0.045</td>   <td>0.023</td>   <td>2.002</td> <td>0.045</td>  <td>0.001</td>  <td>0.090</td>\n",
       "</tr>\n",
       "<tr>\n",
       "  <th>C(drug, Treatment(reference='plac'))[T.brom]:VST_rac</th> <td>-0.078</td>   <td>0.015</td>  <td>-5.322</td> <td>0.000</td> <td>-0.106</td> <td>-0.049</td>\n",
       "</tr>\n",
       "<tr>\n",
       "  <th>C(drug, Treatment(reference='plac'))[T.tolc]:VST_rac</th> <td>-0.001</td>   <td>0.015</td>  <td>-0.053</td> <td>0.958</td> <td>-0.029</td>  <td>0.028</td>\n",
       "</tr>\n",
       "<tr>\n",
       "  <th>Group Var</th>                                             <td>0.018</td>   <td>0.038</td>     <td></td>      <td></td>       <td></td>       <td></td>   \n",
       "</tr>\n",
       "</table><br/>\n"
      ],
      "text/latex": [
       "\\begin{table}\n",
       "\\caption{Mixed Linear Model Regression Results}\n",
       "\\label{}\n",
       "\\begin{center}\n",
       "\\begin{tabular}{llll}\n",
       "\\hline\n",
       "Model:            & MixedLM & Dependent Variable: & nacc\\_connectivity  \\\\\n",
       "No. Observations: & 396     & Method:             & REML                \\\\\n",
       "No. Groups:       & 44      & Scale:              & 0.0141              \\\\\n",
       "Min. group size:  & 9       & Log-Likelihood:     & 210.5790            \\\\\n",
       "Max. group size:  & 9       & Converged:          & Yes                 \\\\\n",
       "Mean group size:  & 9.0     &                     &                     \\\\\n",
       "\\hline\n",
       "\\end{tabular}\n",
       "\\end{center}\n",
       "\n",
       "\\begin{center}\n",
       "\\begin{tabular}{lrrrrrr}\n",
       "\\hline\n",
       "                                                      &  Coef. & Std.Err. &      z & P$> |$z$|$ & [0.025 & 0.975]  \\\\\n",
       "\\hline\n",
       "Intercept                                             &  0.028 &    0.023 &  1.232 &       0.218 & -0.016 &  0.072  \\\\\n",
       "C(drug, Treatment(reference='plac'))[T.brom]          &  0.040 &    0.015 &  2.718 &       0.007 &  0.011 &  0.068  \\\\\n",
       "C(drug, Treatment(reference='plac'))[T.tolc]          &  0.043 &    0.015 &  2.932 &       0.003 &  0.014 &  0.071  \\\\\n",
       "VST\\_rac                                              &  0.045 &    0.023 &  2.002 &       0.045 &  0.001 &  0.090  \\\\\n",
       "C(drug, Treatment(reference='plac'))[T.brom]:VST\\_rac & -0.078 &    0.015 & -5.322 &       0.000 & -0.106 & -0.049  \\\\\n",
       "C(drug, Treatment(reference='plac'))[T.tolc]:VST\\_rac & -0.001 &    0.015 & -0.053 &       0.958 & -0.029 &  0.028  \\\\\n",
       "Group Var                                             &  0.018 &    0.038 &        &             &        &         \\\\\n",
       "\\hline\n",
       "\\end{tabular}\n",
       "\\end{center}\n",
       "\\end{table}\n",
       "\\bigskip\n"
      ],
      "text/plain": [
       "<class 'statsmodels.iolib.summary2.Summary'>\n",
       "\"\"\"\n",
       "                             Mixed Linear Model Regression Results\n",
       "===============================================================================================\n",
       "Model:                        MixedLM           Dependent Variable:           nacc_connectivity\n",
       "No. Observations:             396               Method:                       REML             \n",
       "No. Groups:                   44                Scale:                        0.0141           \n",
       "Min. group size:              9                 Log-Likelihood:               210.5790         \n",
       "Max. group size:              9                 Converged:                    Yes              \n",
       "Mean group size:              9.0                                                              \n",
       "-----------------------------------------------------------------------------------------------\n",
       "                                                     Coef.  Std.Err.   z    P>|z| [0.025 0.975]\n",
       "-----------------------------------------------------------------------------------------------\n",
       "Intercept                                             0.028    0.023  1.232 0.218 -0.016  0.072\n",
       "C(drug, Treatment(reference='plac'))[T.brom]          0.040    0.015  2.718 0.007  0.011  0.068\n",
       "C(drug, Treatment(reference='plac'))[T.tolc]          0.043    0.015  2.932 0.003  0.014  0.071\n",
       "VST_rac                                               0.045    0.023  2.002 0.045  0.001  0.090\n",
       "C(drug, Treatment(reference='plac'))[T.brom]:VST_rac -0.078    0.015 -5.322 0.000 -0.106 -0.049\n",
       "C(drug, Treatment(reference='plac'))[T.tolc]:VST_rac -0.001    0.015 -0.053 0.958 -0.029  0.028\n",
       "Group Var                                             0.018    0.038                           \n",
       "===============================================================================================\n",
       "\n",
       "\"\"\""
      ]
     },
     "execution_count": 12,
     "metadata": {},
     "output_type": "execute_result"
    }
   ],
   "source": [
    "mod_df = connectivity_df.copy()\n",
    "mod_df['VST_rac']= scipy.stats.zscore(mod_df['VST_rac'])\n",
    "md = smf.mixedlm(\"nacc_connectivity ~ C(drug,  Treatment(reference='plac'))*VST_rac \",\n",
    "            groups = mod_df['sub'],\n",
    "           data = mod_df).fit()\n",
    "md.summary()"
   ]
  },
  {
   "cell_type": "code",
   "execution_count": 13,
   "id": "b7af49d7",
   "metadata": {},
   "outputs": [
    {
     "data": {
      "text/html": [
       "<table class=\"simpletable\">\n",
       "<tr>\n",
       "       <td>Model:</td>       <td>MixedLM</td> <td>Dependent Variable:</td> <td>nacc_connectivity</td>\n",
       "</tr>\n",
       "<tr>\n",
       "  <td>No. Observations:</td>   <td>396</td>         <td>Method:</td>             <td>REML</td>       \n",
       "</tr>\n",
       "<tr>\n",
       "     <td>No. Groups:</td>      <td>44</td>          <td>Scale:</td>             <td>0.0149</td>      \n",
       "</tr>\n",
       "<tr>\n",
       "  <td>Min. group size:</td>     <td>9</td>      <td>Log-Likelihood:</td>       <td>219.0615</td>     \n",
       "</tr>\n",
       "<tr>\n",
       "  <td>Max. group size:</td>     <td>9</td>        <td>Converged:</td>             <td>Yes</td>       \n",
       "</tr>\n",
       "<tr>\n",
       "  <td>Mean group size:</td>    <td>9.0</td>            <td></td>                   <td></td>         \n",
       "</tr>\n",
       "</table>\n",
       "<table class=\"simpletable\">\n",
       "<tr>\n",
       "                            <td></td>                            <th>Coef.</th>  <th>Std.Err.</th>    <th>z</th>   <th>P>|z|</th> <th>[0.025</th>  <th>0.975]</th> \n",
       "</tr>\n",
       "<tr>\n",
       "  <th>Intercept</th>                                            <td>-0.161</td>    <td>0.176</td>  <td>-0.917</td> <td>0.359</td> <td>-0.505</td>   <td>0.183</td> \n",
       "</tr>\n",
       "<tr>\n",
       "  <th>C(drug, Treatment(reference='plac'))[T.brom]</th>          <td>0.439</td>    <td>0.115</td>   <td>3.809</td> <td>0.000</td>  <td>0.213</td>   <td>0.665</td> \n",
       "</tr>\n",
       "<tr>\n",
       "  <th>C(drug, Treatment(reference='plac'))[T.tolc]</th>          <td>0.025</td>    <td>0.115</td>   <td>0.218</td> <td>0.828</td> <td>-0.201</td>   <td>0.251</td> \n",
       "</tr>\n",
       "<tr>\n",
       "  <th>VST_fmt</th>                                              <td>10.900</td>   <td>10.049</td>   <td>1.085</td> <td>0.278</td> <td>-8.796</td>  <td>30.595</td> \n",
       "</tr>\n",
       "<tr>\n",
       "  <th>C(drug, Treatment(reference='plac'))[T.brom]:VST_fmt</th> <td>-23.068</td>   <td>6.601</td>  <td>-3.495</td> <td>0.000</td> <td>-36.005</td> <td>-10.131</td>\n",
       "</tr>\n",
       "<tr>\n",
       "  <th>C(drug, Treatment(reference='plac'))[T.tolc]:VST_fmt</th>  <td>1.021</td>    <td>6.601</td>   <td>0.155</td> <td>0.877</td> <td>-11.916</td> <td>13.958</td> \n",
       "</tr>\n",
       "<tr>\n",
       "  <th>Group Var</th>                                             <td>0.018</td>    <td>0.037</td>     <td></td>      <td></td>       <td></td>        <td></td>    \n",
       "</tr>\n",
       "</table><br/>\n"
      ],
      "text/latex": [
       "\\begin{table}\n",
       "\\caption{Mixed Linear Model Regression Results}\n",
       "\\label{}\n",
       "\\begin{center}\n",
       "\\begin{tabular}{llll}\n",
       "\\hline\n",
       "Model:            & MixedLM & Dependent Variable: & nacc\\_connectivity  \\\\\n",
       "No. Observations: & 396     & Method:             & REML                \\\\\n",
       "No. Groups:       & 44      & Scale:              & 0.0149              \\\\\n",
       "Min. group size:  & 9       & Log-Likelihood:     & 219.0615            \\\\\n",
       "Max. group size:  & 9       & Converged:          & Yes                 \\\\\n",
       "Mean group size:  & 9.0     &                     &                     \\\\\n",
       "\\hline\n",
       "\\end{tabular}\n",
       "\\end{center}\n",
       "\n",
       "\\begin{center}\n",
       "\\begin{tabular}{lrrrrrr}\n",
       "\\hline\n",
       "                                                      &   Coef. & Std.Err. &      z & P$> |$z$|$ &  [0.025 &  0.975]  \\\\\n",
       "\\hline\n",
       "Intercept                                             &  -0.161 &    0.176 & -0.917 &       0.359 &  -0.505 &   0.183  \\\\\n",
       "C(drug, Treatment(reference='plac'))[T.brom]          &   0.439 &    0.115 &  3.809 &       0.000 &   0.213 &   0.665  \\\\\n",
       "C(drug, Treatment(reference='plac'))[T.tolc]          &   0.025 &    0.115 &  0.218 &       0.828 &  -0.201 &   0.251  \\\\\n",
       "VST\\_fmt                                              &  10.900 &   10.049 &  1.085 &       0.278 &  -8.796 &  30.595  \\\\\n",
       "C(drug, Treatment(reference='plac'))[T.brom]:VST\\_fmt & -23.068 &    6.601 & -3.495 &       0.000 & -36.005 & -10.131  \\\\\n",
       "C(drug, Treatment(reference='plac'))[T.tolc]:VST\\_fmt &   1.021 &    6.601 &  0.155 &       0.877 & -11.916 &  13.958  \\\\\n",
       "Group Var                                             &   0.018 &    0.037 &        &             &         &          \\\\\n",
       "\\hline\n",
       "\\end{tabular}\n",
       "\\end{center}\n",
       "\\end{table}\n",
       "\\bigskip\n"
      ],
      "text/plain": [
       "<class 'statsmodels.iolib.summary2.Summary'>\n",
       "\"\"\"\n",
       "                              Mixed Linear Model Regression Results\n",
       "==================================================================================================\n",
       "Model:                         MixedLM            Dependent Variable:            nacc_connectivity\n",
       "No. Observations:              396                Method:                        REML             \n",
       "No. Groups:                    44                 Scale:                         0.0149           \n",
       "Min. group size:               9                  Log-Likelihood:                219.0615         \n",
       "Max. group size:               9                  Converged:                     Yes              \n",
       "Mean group size:               9.0                                                                \n",
       "--------------------------------------------------------------------------------------------------\n",
       "                                                      Coef.  Std.Err.   z    P>|z|  [0.025  0.975]\n",
       "--------------------------------------------------------------------------------------------------\n",
       "Intercept                                             -0.161    0.176 -0.917 0.359  -0.505   0.183\n",
       "C(drug, Treatment(reference='plac'))[T.brom]           0.439    0.115  3.809 0.000   0.213   0.665\n",
       "C(drug, Treatment(reference='plac'))[T.tolc]           0.025    0.115  0.218 0.828  -0.201   0.251\n",
       "VST_fmt                                               10.900   10.049  1.085 0.278  -8.796  30.595\n",
       "C(drug, Treatment(reference='plac'))[T.brom]:VST_fmt -23.068    6.601 -3.495 0.000 -36.005 -10.131\n",
       "C(drug, Treatment(reference='plac'))[T.tolc]:VST_fmt   1.021    6.601  0.155 0.877 -11.916  13.958\n",
       "Group Var                                              0.018    0.037                             \n",
       "==================================================================================================\n",
       "\n",
       "\"\"\""
      ]
     },
     "execution_count": 13,
     "metadata": {},
     "output_type": "execute_result"
    }
   ],
   "source": [
    "mod_df = connectivity_df.copy()\n",
    "mod_df['VST_rac']= scipy.stats.zscore(mod_df['VST_fmt'])\n",
    "md = smf.mixedlm(\"nacc_connectivity ~ C(drug,  Treatment(reference='plac'))*VST_fmt \",\n",
    "            groups = mod_df['sub'],\n",
    "           data = mod_df).fit()\n",
    "md.summary()"
   ]
  },
  {
   "cell_type": "code",
   "execution_count": null,
   "id": "2be4a480",
   "metadata": {},
   "outputs": [],
   "source": []
  },
  {
   "cell_type": "code",
   "execution_count": null,
   "id": "0f3c212d",
   "metadata": {},
   "outputs": [],
   "source": []
  }
 ],
 "metadata": {
  "kernelspec": {
   "display_name": "Python 3 (ipykernel)",
   "language": "python",
   "name": "python3"
  },
  "language_info": {
   "codemirror_mode": {
    "name": "ipython",
    "version": 3
   },
   "file_extension": ".py",
   "mimetype": "text/x-python",
   "name": "python",
   "nbconvert_exporter": "python",
   "pygments_lexer": "ipython3",
   "version": "3.9.7"
  }
 },
 "nbformat": 4,
 "nbformat_minor": 5
}
